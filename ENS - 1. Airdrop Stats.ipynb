{
 "cells": [
  {
   "cell_type": "code",
   "execution_count": 1,
   "metadata": {},
   "outputs": [],
   "source": [
    "import json\n",
    "import matplotlib.pyplot as plt\n",
    "import numpy as np\n",
    "import pandas as pd\n",
    "from urllib.request import urlopen"
   ]
  },
  {
   "cell_type": "markdown",
   "metadata": {},
   "source": [
    "# 1. [Easy] Airdrop Stats"
   ]
  },
  {
   "cell_type": "markdown",
   "metadata": {},
   "source": [
    "**Bounty:** How many wallets were eligible for the airdrop? How many addresses have claimed the airdrop? What percentage of all ENS that has been airdropped been claimed?\n",
    "\n",
    "**Conculsion**: There were 97,823 wallets eligible for the airdrop. As of 2021-12-07, 91,229 or 93.26% of eligible wallets have claimed the airdrop. 70.17% of all ENS that has been airdropped been claimed. It is interesting that even though 93% of wallets have claimed the airdrop only 70% of all ENS has been claimed. That must mean that the wallets that are eligible and have not yet claimed their ENS must have larger than typical ENS allocations.\n",
    "\n",
    "Source: https://ens.mirror.xyz/-eaqMv7XPikvXhvjbjzzPNLS4wzcQ8vdOgi9eNXeUuY\n"
   ]
  },
  {
   "cell_type": "markdown",
   "metadata": {},
   "source": [
    "## How many wallets were eligible for the airdrop?"
   ]
  },
  {
   "cell_type": "code",
   "execution_count": 2,
   "metadata": {},
   "outputs": [],
   "source": [
    "query1 = '''\n",
    "SELECT\n",
    "ORIGIN_ADDRESS,\n",
    "COUNT(DISTINCT TX_ID) as REGISTERED_ENS\n",
    "FROM ethereum.udm_events\n",
    "WHERE contract_address = '0x00000000000c2e074ec69a0dfb2997ba6c7d2e1e'    -- ENS Registry Contract\n",
    "AND origin_function_name = 'registerWithConfig'                          -- Registration function\n",
    "AND BLOCK_TIMESTAMP <= DATE('2021-10-31')                                -- ENS airdrop cutoff date\n",
    "GROUP BY ORIGIN_ADDRESS\n",
    "ORDER BY COUNT(DISTINCT TX_ID) DESC\n",
    "'''"
   ]
  },
  {
   "cell_type": "code",
   "execution_count": 3,
   "metadata": {},
   "outputs": [],
   "source": [
    "# Pull query data from API \n",
    "\n",
    "url = 'https://api.flipsidecrypto.com/api/v2/queries/5a62fdb1-ecc3-43e4-b322-a0b9a5542935/data/latest'\n",
    "\n",
    "response = urlopen(url)\n",
    "data_json = json.loads(response.read())\n",
    "df = pd.DataFrame(data_json)"
   ]
  },
  {
   "cell_type": "code",
   "execution_count": 4,
   "metadata": {},
   "outputs": [
    {
     "data": {
      "text/html": [
       "<div>\n",
       "<style scoped>\n",
       "    .dataframe tbody tr th:only-of-type {\n",
       "        vertical-align: middle;\n",
       "    }\n",
       "\n",
       "    .dataframe tbody tr th {\n",
       "        vertical-align: top;\n",
       "    }\n",
       "\n",
       "    .dataframe thead th {\n",
       "        text-align: right;\n",
       "    }\n",
       "</style>\n",
       "<table border=\"1\" class=\"dataframe\">\n",
       "  <thead>\n",
       "    <tr style=\"text-align: right;\">\n",
       "      <th></th>\n",
       "      <th>ORIGIN_ADDRESS</th>\n",
       "      <th>REGISTERED_ENS</th>\n",
       "    </tr>\n",
       "  </thead>\n",
       "  <tbody>\n",
       "    <tr>\n",
       "      <th>0</th>\n",
       "      <td>0xaa96a50a2f67111262fe24576bd85bb56ec65016</td>\n",
       "      <td>1064</td>\n",
       "    </tr>\n",
       "    <tr>\n",
       "      <th>1</th>\n",
       "      <td>0xe68e8cc7ff772b026c062b9cc28246676d044947</td>\n",
       "      <td>932</td>\n",
       "    </tr>\n",
       "    <tr>\n",
       "      <th>2</th>\n",
       "      <td>0x2874c4e9cb5f183ef3d8adfa6d6bbd584dc67842</td>\n",
       "      <td>880</td>\n",
       "    </tr>\n",
       "    <tr>\n",
       "      <th>3</th>\n",
       "      <td>0xd9c61c6a41cb78ee8124111be112d352a7cf13c1</td>\n",
       "      <td>869</td>\n",
       "    </tr>\n",
       "    <tr>\n",
       "      <th>4</th>\n",
       "      <td>0x3e6eb66bfd1046a7ff89a50b26ef6b88af33c317</td>\n",
       "      <td>696</td>\n",
       "    </tr>\n",
       "  </tbody>\n",
       "</table>\n",
       "</div>"
      ],
      "text/plain": [
       "                               ORIGIN_ADDRESS  REGISTERED_ENS\n",
       "0  0xaa96a50a2f67111262fe24576bd85bb56ec65016            1064\n",
       "1  0xe68e8cc7ff772b026c062b9cc28246676d044947             932\n",
       "2  0x2874c4e9cb5f183ef3d8adfa6d6bbd584dc67842             880\n",
       "3  0xd9c61c6a41cb78ee8124111be112d352a7cf13c1             869\n",
       "4  0x3e6eb66bfd1046a7ff89a50b26ef6b88af33c317             696"
      ]
     },
     "execution_count": 4,
     "metadata": {},
     "output_type": "execute_result"
    }
   ],
   "source": [
    "df.head()"
   ]
  },
  {
   "cell_type": "code",
   "execution_count": 5,
   "metadata": {},
   "outputs": [
    {
     "name": "stdout",
     "output_type": "stream",
     "text": [
      "There were 97823 wallets eligible for the airdrop.\n"
     ]
    }
   ],
   "source": [
    "wallet_count = len(df['ORIGIN_ADDRESS'].unique())\n",
    "\n",
    "print(f'There were {str(wallet_count)} wallets eligible for the airdrop.')"
   ]
  },
  {
   "cell_type": "markdown",
   "metadata": {},
   "source": [
    "## How many addresses have claimed the airdrop?"
   ]
  },
  {
   "cell_type": "code",
   "execution_count": 6,
   "metadata": {},
   "outputs": [],
   "source": [
    "query2 = '''\n",
    "SELECT\n",
    "TX_FROM_ADDRESS,\n",
    "EVENT_INPUTS,\n",
    "CURRENT_DATE() as DATE\n",
    "FROM ethereum.events_emitted\n",
    "WHERE CONTRACT_ADDRESS = '0xc18360217d8f7ab5e7c516566761ea12ce7f9d72' -- ENS airdrop token contract\n",
    "AND EVENT_NAME = 'Claim'\n",
    "AND TX_TO_ADDRESS_NAME = 'ens: ens token'\n",
    "'''"
   ]
  },
  {
   "cell_type": "code",
   "execution_count": 7,
   "metadata": {},
   "outputs": [],
   "source": [
    "# Pull query data from API \n",
    "\n",
    "url = 'https://api.flipsidecrypto.com/api/v2/queries/021bc945-8ea3-4ac4-bc8a-764cdee80aac/data/latest'\n",
    "\n",
    "response = urlopen(url)\n",
    "data_json = json.loads(response.read())\n",
    "df2 = pd.DataFrame(data_json)"
   ]
  },
  {
   "cell_type": "code",
   "execution_count": 8,
   "metadata": {},
   "outputs": [
    {
     "data": {
      "text/html": [
       "<div>\n",
       "<style scoped>\n",
       "    .dataframe tbody tr th:only-of-type {\n",
       "        vertical-align: middle;\n",
       "    }\n",
       "\n",
       "    .dataframe tbody tr th {\n",
       "        vertical-align: top;\n",
       "    }\n",
       "\n",
       "    .dataframe thead th {\n",
       "        text-align: right;\n",
       "    }\n",
       "</style>\n",
       "<table border=\"1\" class=\"dataframe\">\n",
       "  <thead>\n",
       "    <tr style=\"text-align: right;\">\n",
       "      <th></th>\n",
       "      <th>DATE</th>\n",
       "      <th>EVENT_INPUTS</th>\n",
       "      <th>TX_FROM_ADDRESS</th>\n",
       "    </tr>\n",
       "  </thead>\n",
       "  <tbody>\n",
       "    <tr>\n",
       "      <th>0</th>\n",
       "      <td>2021-12-07T00:00:00Z</td>\n",
       "      <td>{\\n  \"account\": \"0x3c87140563845d0d0ee8c4d3016...</td>\n",
       "      <td>0x3c87140563845d0d0ee8c4d301639b1f0ba5758f</td>\n",
       "    </tr>\n",
       "    <tr>\n",
       "      <th>1</th>\n",
       "      <td>2021-12-07T00:00:00Z</td>\n",
       "      <td>{\\n  \"account\": \"0x7b3f757386cb0a94c5c5c4f24c7...</td>\n",
       "      <td>0x7b3f757386cb0a94c5c5c4f24c70d518c4d63331</td>\n",
       "    </tr>\n",
       "    <tr>\n",
       "      <th>2</th>\n",
       "      <td>2021-12-07T00:00:00Z</td>\n",
       "      <td>{\\n  \"account\": \"0x319cefeb796f6ea9c99c04f2261...</td>\n",
       "      <td>0x319cefeb796f6ea9c99c04f22617b8168f1f7fd6</td>\n",
       "    </tr>\n",
       "    <tr>\n",
       "      <th>3</th>\n",
       "      <td>2021-12-07T00:00:00Z</td>\n",
       "      <td>{\\n  \"account\": \"0x607d39aa1e4d169b1f24e429cab...</td>\n",
       "      <td>0x607d39aa1e4d169b1f24e429caba19527211298c</td>\n",
       "    </tr>\n",
       "    <tr>\n",
       "      <th>4</th>\n",
       "      <td>2021-12-07T00:00:00Z</td>\n",
       "      <td>{\\n  \"account\": \"0xf7318ac0253b14f703d969483ff...</td>\n",
       "      <td>0xf7318ac0253b14f703d969483ff2908b42b261cc</td>\n",
       "    </tr>\n",
       "  </tbody>\n",
       "</table>\n",
       "</div>"
      ],
      "text/plain": [
       "                   DATE                                       EVENT_INPUTS  \\\n",
       "0  2021-12-07T00:00:00Z  {\\n  \"account\": \"0x3c87140563845d0d0ee8c4d3016...   \n",
       "1  2021-12-07T00:00:00Z  {\\n  \"account\": \"0x7b3f757386cb0a94c5c5c4f24c7...   \n",
       "2  2021-12-07T00:00:00Z  {\\n  \"account\": \"0x319cefeb796f6ea9c99c04f2261...   \n",
       "3  2021-12-07T00:00:00Z  {\\n  \"account\": \"0x607d39aa1e4d169b1f24e429cab...   \n",
       "4  2021-12-07T00:00:00Z  {\\n  \"account\": \"0xf7318ac0253b14f703d969483ff...   \n",
       "\n",
       "                              TX_FROM_ADDRESS  \n",
       "0  0x3c87140563845d0d0ee8c4d301639b1f0ba5758f  \n",
       "1  0x7b3f757386cb0a94c5c5c4f24c70d518c4d63331  \n",
       "2  0x319cefeb796f6ea9c99c04f22617b8168f1f7fd6  \n",
       "3  0x607d39aa1e4d169b1f24e429caba19527211298c  \n",
       "4  0xf7318ac0253b14f703d969483ff2908b42b261cc  "
      ]
     },
     "execution_count": 8,
     "metadata": {},
     "output_type": "execute_result"
    }
   ],
   "source": [
    "df2.head()"
   ]
  },
  {
   "cell_type": "code",
   "execution_count": 9,
   "metadata": {},
   "outputs": [
    {
     "name": "stdout",
     "output_type": "stream",
     "text": [
      "As of 2021-12-07, 91229 or 93.26% of wallets have claimed their airdrop.\n"
     ]
    }
   ],
   "source": [
    "date = df2['DATE'][0][:10]\n",
    "claim_count = len(df2['TX_FROM_ADDRESS'].unique())\n",
    "claim_percent = round((claim_count / wallet_count)*100,2)\n",
    "\n",
    "print(f'As of {date}, {str(claim_count)} or {str(claim_percent)}% of wallets have claimed their airdrop.')"
   ]
  },
  {
   "cell_type": "markdown",
   "metadata": {},
   "source": [
    "## What percentage of all ENS that has been airdropped been claimed?"
   ]
  },
  {
   "cell_type": "code",
   "execution_count": 10,
   "metadata": {},
   "outputs": [],
   "source": [
    "# Pull out the value from the EVENT_INPUTS field\n",
    "df2['EVENT_INPUTS'] = [json.loads(x.replace('\\n', '')) for x in df2['EVENT_INPUTS']]\n",
    "df2['event_value'] = [float(x['value']) for x in df2['EVENT_INPUTS']]"
   ]
  },
  {
   "cell_type": "code",
   "execution_count": 11,
   "metadata": {},
   "outputs": [
    {
     "name": "stdout",
     "output_type": "stream",
     "text": [
      "As of 2021-12-07, 17541651.29 or 70.17% of airdropped ENS has been claimed\n"
     ]
    }
   ],
   "source": [
    "claimed_ENS = df2['event_value'].sum()/1e18\n",
    "total_dropped_ENS = 100000000*.25\n",
    "\n",
    "claimed_ENS_percent = round((claimed_ENS / total_dropped_ENS)*100,2)\n",
    "\n",
    "print(f'As of {date}, {str(round(claimed_ENS,2))} or {str(claimed_ENS_percent)}% of airdropped ENS has been claimed')"
   ]
  },
  {
   "cell_type": "markdown",
   "metadata": {},
   "source": [
    "# Data Visualization"
   ]
  },
  {
   "cell_type": "code",
   "execution_count": 12,
   "metadata": {},
   "outputs": [
    {
     "data": {
      "image/png": "[encoded data removed]",
      "text/plain": [
       "<Figure size 432x288 with 1 Axes>"
      ]
     },
     "metadata": {
      "needs_background": "light"
     },
     "output_type": "display_data"
    }
   ],
   "source": [
    "import matplotlib.pyplot as plt\n",
    "\n",
    "labels = ['Wallet Claim Percentage', '$ENS Claim Percentage']\n",
    "claimed = [claim_percent, claimed_ENS_percent]\n",
    "unclaimed = [100-claim_percent, 100- claimed_ENS_percent]\n",
    "\n",
    "width = 0.35\n",
    "\n",
    "fig, ax = plt.subplots()\n",
    "\n",
    "ax.bar(labels, claimed, width, label='Claimed', color = '#6b7eec')\n",
    "ax.bar(labels, unclaimed, width, bottom=claimed, label='Unclaimed', color = '#78afff')\n",
    "\n",
    "ax.set_ylabel('Percentage (%)')\n",
    "ax.set_title('Percentage of ENS Airdrop Claimed by Address and ENS Value')\n",
    "ax.legend()\n",
    "\n",
    "plt.show()"
   ]
  }
 ],
 "metadata": {
  "kernelspec": {
   "display_name": "Python 3",
   "language": "python",
   "name": "python3"
  },
  "language_info": {
   "codemirror_mode": {
    "name": "ipython",
    "version": 3
   },
   "file_extension": ".py",
   "mimetype": "text/x-python",
   "name": "python",
   "nbconvert_exporter": "python",
   "pygments_lexer": "ipython3",
   "version": "3.6.12"
  }
 },
 "nbformat": 4,
 "nbformat_minor": 2
}
