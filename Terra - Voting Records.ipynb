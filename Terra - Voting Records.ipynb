{
 "cells": [
  {
   "cell_type": "markdown",
   "metadata": {},
   "source": [
    "# Voting Records"
   ]
  },
  {
   "cell_type": "markdown",
   "metadata": {},
   "source": [
    "**Prompt**\n",
    "\n",
    "Select two Terra Validators of your choice and compare their voting history (governance votes). Off-chain data can be used to support your answer, but you must also utilize Flipside data in your answer to be eligible for full payment.\n",
    "\n",
    "BONUS: Can you find any proposals where your chosen validators voted differently? Why do you think this might be the case?"
   ]
  },
  {
   "cell_type": "markdown",
   "metadata": {},
   "source": [
    "## Pull Data"
   ]
  },
  {
   "cell_type": "markdown",
   "metadata": {},
   "source": [
    "Using the `terra.validator_voting_power` table, I found two validators with a relatively high amount of voting power who had cool names to dig into: **'Luna Station 88’** and **‘moonshot’**"
   ]
  },
  {
   "cell_type": "code",
   "execution_count": 1,
   "metadata": {},
   "outputs": [],
   "source": [
    "import emoji\n",
    "import json\n",
    "import matplotlib.pyplot as plt\n",
    "import numpy as np\n",
    "import pandas as pd\n",
    "from urllib.request import urlopen"
   ]
  },
  {
   "cell_type": "markdown",
   "metadata": {},
   "source": [
    "```SQL\n",
    "WITH ls AS (\n",
    "  SELECT\n",
    "  VOTER,\n",
    "  'Luna Station 88' AS label,\n",
    "  PROPOSAL_ID,\n",
    "  OPTION\n",
    "  FROM terra.gov_vote\n",
    "  WHERE voter = 'terra1j27nm2gjm0m4lsye8lspa46rax0rw4fge9awrs'\n",
    "), ms AS (\n",
    "  SELECT\n",
    "  VOTER,\n",
    "  'moonshot' AS label,\n",
    "  PROPOSAL_ID,\n",
    "  OPTION\n",
    "  FROM terra.gov_vote\n",
    "  WHERE voter = 'terra1xuxwc867udr9k84zzqhaflf9sc00svvmjm4geh'\n",
    ")\n",
    "SELECT\n",
    "CASE WHEN ls.proposal_id IS NULL THEN ms.proposal_id ELSE ls.proposal_id END as proposalId,\n",
    "ls.label AS ls_label,\n",
    "ls.option AS ls_option,\n",
    "ms.label AS ms_label,\n",
    "ms.option AS ms_option\n",
    "FROM ls\n",
    "FULL OUTER JOIN ms ON ms.proposal_id = ls.proposal_id\n",
    "ORDER BY proposalId DESC\n",
    "```"
   ]
  },
  {
   "cell_type": "code",
   "execution_count": 2,
   "metadata": {},
   "outputs": [],
   "source": [
    "# Pull query data from API \n",
    "\n",
    "url = 'https://api.flipsidecrypto.com/api/v2/queries/11bc80f7-57c0-4fdd-b9dc-c173bd39742e/data/latest'\n",
    "\n",
    "response = urlopen(url)\n",
    "data_json = json.loads(response.read())\n",
    "df = pd.DataFrame(data_json)\n",
    "df['PROPOSALID'] = pd.to_numeric(df['PROPOSALID'])\n",
    "df.sort_values('PROPOSALID', inplace = True)"
   ]
  },
  {
   "cell_type": "code",
   "execution_count": 3,
   "metadata": {},
   "outputs": [
    {
     "data": {
      "text/html": [
       "<div>\n",
       "<style scoped>\n",
       "    .dataframe tbody tr th:only-of-type {\n",
       "        vertical-align: middle;\n",
       "    }\n",
       "\n",
       "    .dataframe tbody tr th {\n",
       "        vertical-align: top;\n",
       "    }\n",
       "\n",
       "    .dataframe thead th {\n",
       "        text-align: right;\n",
       "    }\n",
       "</style>\n",
       "<table border=\"1\" class=\"dataframe\">\n",
       "  <thead>\n",
       "    <tr style=\"text-align: right;\">\n",
       "      <th></th>\n",
       "      <th>LS_LABEL</th>\n",
       "      <th>LS_OPTION</th>\n",
       "      <th>MS_LABEL</th>\n",
       "      <th>MS_OPTION</th>\n",
       "      <th>PROPOSALID</th>\n",
       "    </tr>\n",
       "  </thead>\n",
       "  <tbody>\n",
       "    <tr>\n",
       "      <th>15</th>\n",
       "      <td>Luna Station 88</td>\n",
       "      <td>Yes</td>\n",
       "      <td>None</td>\n",
       "      <td>None</td>\n",
       "      <td>53</td>\n",
       "    </tr>\n",
       "    <tr>\n",
       "      <th>14</th>\n",
       "      <td>Luna Station 88</td>\n",
       "      <td>Yes</td>\n",
       "      <td>None</td>\n",
       "      <td>None</td>\n",
       "      <td>54</td>\n",
       "    </tr>\n",
       "    <tr>\n",
       "      <th>13</th>\n",
       "      <td>Luna Station 88</td>\n",
       "      <td>Yes</td>\n",
       "      <td>None</td>\n",
       "      <td>None</td>\n",
       "      <td>56</td>\n",
       "    </tr>\n",
       "    <tr>\n",
       "      <th>12</th>\n",
       "      <td>Luna Station 88</td>\n",
       "      <td>Yes</td>\n",
       "      <td>None</td>\n",
       "      <td>None</td>\n",
       "      <td>58</td>\n",
       "    </tr>\n",
       "    <tr>\n",
       "      <th>11</th>\n",
       "      <td>Luna Station 88</td>\n",
       "      <td>Abstain</td>\n",
       "      <td>moonshot</td>\n",
       "      <td>Yes</td>\n",
       "      <td>67</td>\n",
       "    </tr>\n",
       "  </tbody>\n",
       "</table>\n",
       "</div>"
      ],
      "text/plain": [
       "           LS_LABEL LS_OPTION  MS_LABEL MS_OPTION  PROPOSALID\n",
       "15  Luna Station 88       Yes      None      None          53\n",
       "14  Luna Station 88       Yes      None      None          54\n",
       "13  Luna Station 88       Yes      None      None          56\n",
       "12  Luna Station 88       Yes      None      None          58\n",
       "11  Luna Station 88   Abstain  moonshot       Yes          67"
      ]
     },
     "execution_count": 3,
     "metadata": {},
     "output_type": "execute_result"
    }
   ],
   "source": [
    "df.head()"
   ]
  },
  {
   "cell_type": "code",
   "execution_count": 4,
   "metadata": {},
   "outputs": [],
   "source": [
    "option_dict ={'Abstain': ':white_large_square:',\n",
    "              'No': ':cross_mark:',\n",
    "              None: ':white_large_square:',\n",
    "              'NoWithVeto': ':cross_mark:',\n",
    "              'VOTE_OPTION_ABSTAIN': ':white_large_square:',\n",
    "              'VOTE_OPTION_NO': ':cross_mark:',\n",
    "              'VOTE_OPTION_YES': ':check_mark_button:',\n",
    "              'Yes': ':check_mark_button:'}"
   ]
  },
  {
   "cell_type": "code",
   "execution_count": 5,
   "metadata": {},
   "outputs": [],
   "source": [
    "def format_proposal_id(id):\n",
    "    length = len(str(id))\n",
    "    spaces = 12 - length\n",
    "    return str(id) + ' '*spaces +'|'"
   ]
  },
  {
   "cell_type": "markdown",
   "metadata": {},
   "source": [
    "## Visualize Votes"
   ]
  },
  {
   "cell_type": "code",
   "execution_count": 6,
   "metadata": {},
   "outputs": [
    {
     "name": "stdout",
     "output_type": "stream",
     "text": [
      "PROPOSAL_ID | Luna Station 88 | moonshot\n",
      "53          |        ✅      |    ⬜\n",
      "54          |        ✅      |    ⬜\n",
      "56          |        ✅      |    ⬜\n",
      "58          |        ✅      |    ⬜\n",
      "67          |        ⬜      |    ✅\n",
      "68          |        ✅      |    ⬜\n",
      "76          |        ✅      |    ✅\n",
      "78          |        ✅      |    ✅\n",
      "82          |        ❌      |    ❌\n",
      "83          |        ✅      |    ✅\n",
      "86          |        ❌      |    ✅\n",
      "90          |        ✅      |    ✅\n",
      "92          |        ✅      |    ✅\n",
      "95          |        ✅      |    ⬜\n",
      "96          |        ⬜      |    ❌\n",
      "98          |        ✅      |    ✅\n",
      "100         |        ✅      |    ✅\n",
      "106         |        ✅      |    ✅\n",
      "107         |        ⬜      |    ✅\n",
      "107         |        ⬜      |    ✅\n",
      "108         |        ✅      |    ✅\n",
      "110         |        ✅      |    ✅\n",
      "115         |        ✅      |    ✅\n",
      "116         |        ✅      |    ✅\n",
      "117         |        ✅      |    ✅\n",
      "118         |        ✅      |    ⬜\n",
      "119         |        ✅      |    ✅\n",
      "121         |        ✅      |    ✅\n",
      "124         |        ❌      |    ❌\n",
      "128         |        ✅      |    ✅\n",
      "132         |        ✅      |    ✅\n",
      "133         |        ✅      |    ✅\n",
      "134         |        ✅      |    ✅\n",
      "135         |        ✅      |    ❌\n",
      "136         |        ✅      |    ✅\n",
      "137         |        ✅      |    ✅\n",
      "142         |        ❌      |    ❌\n",
      "143         |        ✅      |    ✅\n",
      "145         |        ⬜      |    ❌\n",
      "147         |        ✅      |    ✅\n",
      "148         |        ✅      |    ✅\n",
      "149         |        ✅      |    ✅\n",
      "153         |        ✅      |    ⬜\n",
      "160         |        ❌      |    ✅\n",
      "165         |        ✅      |    ✅\n",
      "169         |        ✅      |    ✅\n",
      "172         |        ✅      |    ✅\n",
      "174         |        ✅      |    ✅\n",
      "175         |        ✅      |    ✅\n",
      "175         |        ✅      |    ✅\n",
      "176         |        ✅      |    ✅\n",
      "178         |        ✅      |    ✅\n"
     ]
    }
   ],
   "source": [
    "print('PROPOSAL_ID | Luna Station 88 | moonshot')\n",
    "for index, row in df.iterrows():\n",
    "    print(emoji.emojize(format_proposal_id(row['PROPOSALID']) + \\\n",
    "          '        ' + option_dict[row['LS_OPTION']] + '      |'\\\n",
    "          '    ' + option_dict[row['MS_OPTION']]))"
   ]
  },
  {
   "cell_type": "markdown",
   "metadata": {},
   "source": [
    "## Voting Disagreements"
   ]
  },
  {
   "cell_type": "code",
   "execution_count": 7,
   "metadata": {},
   "outputs": [
    {
     "name": "stdout",
     "output_type": "stream",
     "text": [
      "PROPOSAL_ID | Luna Station 88 | moonshot\n",
      "86          |        ❌      |    ✅\n",
      "135         |        ✅      |    ❌\n",
      "160         |        ❌      |    ✅\n"
     ]
    }
   ],
   "source": [
    "# Just the disagreements\n",
    "print('PROPOSAL_ID | Luna Station 88 | moonshot')\n",
    "for index, row in df[df['PROPOSALID'].isin([86, 135, 160])].iterrows():\n",
    "    print(emoji.emojize(format_proposal_id(row['PROPOSALID']) + \\\n",
    "          '        ' + option_dict[row['LS_OPTION']] + '      |'\\\n",
    "          '    ' + option_dict[row['MS_OPTION']]))"
   ]
  },
  {
   "cell_type": "markdown",
   "metadata": {},
   "source": [
    "[Terra proposal 86](https://station.terra.money/proposal/86) was to \"Increase the maximum num of validators\". Luna Station voted against the proposal while moonshot voted for. The proposal passed.\n",
    "\n",
    "[Terra proposal 135](https://station.terra.money/proposal/135) was \"Community Grant Proposal to Expand ‘TeFi Alpha’ Worldwide\". Luna Station voted for the proposal while moonshot voted against. The proposal passed.\n",
    "\n",
    "[Terra proposal 160](https://station.terra.money/proposal/160) was “Community Grant Proposal: LunaFest Decentralised Crypto Festival\". Luna Station voted against the proposal while moonshot voted for. The proposal was rejected."
   ]
  }
 ],
 "metadata": {
  "kernelspec": {
   "display_name": "Python 3",
   "language": "python",
   "name": "python3"
  },
  "language_info": {
   "codemirror_mode": {
    "name": "ipython",
    "version": 3
   },
   "file_extension": ".py",
   "mimetype": "text/x-python",
   "name": "python",
   "nbconvert_exporter": "python",
   "pygments_lexer": "ipython3",
   "version": "3.6.12"
  }
 },
 "nbformat": 4,
 "nbformat_minor": 2
}
